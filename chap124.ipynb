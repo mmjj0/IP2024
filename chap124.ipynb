{
 "cells": [
  {
   "cell_type": "code",
   "execution_count": 3,
   "metadata": {},
   "outputs": [],
   "source": [
    "import numpy as np\n",
    "import cv2\n"
   ]
  },
  {
   "cell_type": "code",
   "execution_count": 4,
   "metadata": {},
   "outputs": [],
   "source": [
    "#mousecallbackfunction\n",
    "def draw_circle(event,x,y,flags,param):\n",
    "   if event==cv2.EVENT_LBUTTONDBLCLK:\n",
    "      cv2.circle(img,(x,y),6,(255,0,0),-1)\n",
    "   elif event==cv2.EVENT_LBUTTONDBLCLK:\n",
    "      cv2.circle(img,(x,y),6,(255,0,0),2)\n",
    "   elif event==cv2.EVENT_LBUTTONDBLCLK:\n",
    "      cv2.circle(img,(x,y),6,(255,0,0),2)"
   ]
  },
  {
   "cell_type": "code",
   "execution_count": 5,
   "metadata": {},
   "outputs": [
    {
     "ename": "KeyboardInterrupt",
     "evalue": "",
     "output_type": "error",
     "traceback": [
      "\u001b[1;31m---------------------------------------------------------------------------\u001b[0m",
      "\u001b[1;31mKeyboardInterrupt\u001b[0m                         Traceback (most recent call last)",
      "Cell \u001b[1;32mIn[5], line 7\u001b[0m\n\u001b[0;32m      5\u001b[0m \u001b[38;5;28;01mwhile\u001b[39;00m(\u001b[38;5;241m1\u001b[39m):\n\u001b[0;32m      6\u001b[0m    cv2\u001b[38;5;241m.\u001b[39mimshow(\u001b[38;5;124m'\u001b[39m\u001b[38;5;124mimage\u001b[39m\u001b[38;5;124m'\u001b[39m,img)\n\u001b[1;32m----> 7\u001b[0m    \u001b[38;5;28;01mif\u001b[39;00m \u001b[43mcv2\u001b[49m\u001b[38;5;241;43m.\u001b[39;49m\u001b[43mwaitKey\u001b[49m\u001b[43m(\u001b[49m\u001b[38;5;241;43m20\u001b[39;49m\u001b[43m)\u001b[49m\u001b[38;5;241m&\u001b[39m\u001b[38;5;241m0xFF\u001b[39m\u001b[38;5;241m==\u001b[39m\u001b[38;5;241m27\u001b[39m:\n\u001b[0;32m      8\u001b[0m       \u001b[38;5;28;01mbreak\u001b[39;00m\n\u001b[0;32m      9\u001b[0m cv2\u001b[38;5;241m.\u001b[39mdestroyAllWindows()\n",
      "\u001b[1;31mKeyboardInterrupt\u001b[0m: "
     ]
    },
    {
     "ename": "",
     "evalue": "",
     "output_type": "error",
     "traceback": [
      "\u001b[1;31mThe Kernel crashed while executing code in the current cell or a previous cell. \n",
      "\u001b[1;31mPlease review the code in the cell(s) to identify a possible cause of the failure. \n",
      "\u001b[1;31mClick <a href='https://aka.ms/vscodeJupyterKernelCrash'>here</a> for more info. \n",
      "\u001b[1;31mView Jupyter <a href='command:jupyter.viewOutput'>log</a> for further details."
     ]
    }
   ],
   "source": [
    "#Createablackimage,awindowandbindthefunctiontowindow\n",
    "img=np.zeros((512,512,3),np.uint8)\n",
    "cv2.namedWindow('image')\n",
    "cv2.setMouseCallback('image',draw_circle)\n",
    "while(1):\n",
    "   cv2.imshow('image',img)\n",
    "   if cv2.waitKey(20)&0xFF==27:\n",
    "      break\n",
    "cv2.destroyAllWindows()"
   ]
  },
  {
   "cell_type": "code",
   "execution_count": null,
   "metadata": {},
   "outputs": [],
   "source": [
    "events=[i for i in dir(cv2) if 'EVENT' ini]\n",
    "print events"
   ]
  },
  {
   "cell_type": "code",
   "execution_count": 4,
   "metadata": {},
   "outputs": [],
   "source": [
    "#mousecallbackfunction\n",
    "def draw_circle(event,x,y,flags,param):\n",
    "   if event==cv2.EVENT_MOUSEMOVE:\n",
    "      cv2.circle(img,(x,y),6,(255,0,0),-1)\n",
    "   elif event==cv2.EVENT_MOUSEMOVE:\n",
    "      cv2.circle(img,(x,y),6,(255,0,0),2)\n",
    "   elif event==cv2.EVENT_MOUSEMOE:\n",
    "      cv2.circle(img,(x,y),6,(255,0,0),2)"
   ]
  },
  {
   "cell_type": "code",
   "execution_count": 5,
   "metadata": {},
   "outputs": [],
   "source": [
    "drawing=False#trueifmouseispressed\n",
    "mode= True#ifTrue,drawrectangle.Press'm'totoggletocurve\n",
    "ix,iy=-1,-1\n",
    "#mousecallbackfunction\n",
    "def draw_circle(event,x,y,flags,param):\n",
    "   global ix,iy,drawing,mode\n",
    "   if event==cv2.EVENT_LBUTTONDOWN:\n",
    "      drawing=True\n",
    "      ix,iy=x,y\n",
    "   elif event==cv2.EVENT_MOUSEMOVE:\n",
    "      if drawing==True:\n",
    "         if mode== True:\n",
    "            cv2.rectangle(img,(ix,iy),(x,y),(0,255,0),-1)\n",
    "         else:\n",
    "            cv2.circle(img,(x,y),5,(0,0,255),-1)\n",
    "   elif event==cv2.EVENT_LBUTTONUP:\n",
    "      drawing=False\n",
    "      if mode== True:\n",
    "         cv2.rectangle(img,(ix,iy),(x,y),(0,255,0),-1)\n",
    "      else:\n",
    "         cv2.circle(img,(x,y),5,(0,0,255),-1)"
   ]
  },
  {
   "cell_type": "code",
   "execution_count": 2,
   "metadata": {},
   "outputs": [
    {
     "ename": "NameError",
     "evalue": "name 'np' is not defined",
     "output_type": "error",
     "traceback": [
      "\u001b[1;31m---------------------------------------------------------------------------\u001b[0m",
      "\u001b[1;31mNameError\u001b[0m                                 Traceback (most recent call last)",
      "Cell \u001b[1;32mIn[2], line 1\u001b[0m\n\u001b[1;32m----> 1\u001b[0m img\u001b[38;5;241m=\u001b[39m\u001b[43mnp\u001b[49m\u001b[38;5;241m.\u001b[39mzeros((\u001b[38;5;241m512\u001b[39m,\u001b[38;5;241m512\u001b[39m,\u001b[38;5;241m3\u001b[39m),np\u001b[38;5;241m.\u001b[39muint8)\n\u001b[0;32m      2\u001b[0m cv2\u001b[38;5;241m.\u001b[39mnamedWindow(\u001b[38;5;124m'\u001b[39m\u001b[38;5;124mimage\u001b[39m\u001b[38;5;124m'\u001b[39m)\n\u001b[0;32m      3\u001b[0m cv2\u001b[38;5;241m.\u001b[39msetMouseCallback(\u001b[38;5;124m'\u001b[39m\u001b[38;5;124mimage\u001b[39m\u001b[38;5;124m'\u001b[39m,draw_circle)\n",
      "\u001b[1;31mNameError\u001b[0m: name 'np' is not defined"
     ]
    }
   ],
   "source": [
    "img=np.zeros((512,512,3),np.uint8)\n",
    "cv2.namedWindow('image')\n",
    "cv2.setMouseCallback('image',draw_circle)\n",
    "while(1):\n",
    "   cv2.imshow('image',img)\n",
    "   k=cv2.waitKey(1)&0xFF\n",
    "   if k== ord('m'):\n",
    "      mode=not mode\n",
    "   elif k==27:\n",
    "      break\n",
    "cv2.destroyAllWindows()"
   ]
  },
  {
   "cell_type": "code",
   "execution_count": 1,
   "metadata": {},
   "outputs": [],
   "source": [
    "# 지우기 추가\n",
    "drawing=False#trueifmouseispressed\n",
    "mode= True#ifTrue,drawrectangle.Press'm'totoggletocurve\n",
    "ix,iy=-1,-1\n",
    "#mousecallbackfunction\n",
    "def draw_circle(event,x,y,flags,param):\n",
    "   global ix,iy,drawing,mode\n",
    "   if event==cv2.EVENT_LBUTTONDOWN:\n",
    "      drawing=True\n",
    "      ix,iy=x,y\n",
    "   elif event==cv2.EVENT_MOUSEMOVE:\n",
    "      if drawing==True:\n",
    "         if mode== True:\n",
    "            cv2.rectangle(img,(ix,iy),(x,y),(0,255,0),-1)\n",
    "         else:\n",
    "            cv2.circle(img,(x,y),5,(0,0,255),-1)\n",
    "   elif event==cv2.EVENT_LBUTTONUP:\n",
    "      drawing=False\n",
    "      if mode== True:\n",
    "         cv2.rectangle(img,(ix,iy),(x,y),(0,255,0),-1)\n",
    "      else:\n",
    "         cv2.circle(img,(x,y),5,(0,0,255),-1)\n",
    "   elif event==cv2.EVENT_LBUTTONUP:\n",
    "      cv2.rectangle(img,(0,0),(500,500),(0,0,0),-1)"
   ]
  }
 ],
 "metadata": {
  "kernelspec": {
   "display_name": "IP2024",
   "language": "python",
   "name": "python3"
  },
  "language_info": {
   "codemirror_mode": {
    "name": "ipython",
    "version": 3
   },
   "file_extension": ".py",
   "mimetype": "text/x-python",
   "name": "python",
   "nbconvert_exporter": "python",
   "pygments_lexer": "ipython3",
   "version": "3.8.19"
  }
 },
 "nbformat": 4,
 "nbformat_minor": 2
}
